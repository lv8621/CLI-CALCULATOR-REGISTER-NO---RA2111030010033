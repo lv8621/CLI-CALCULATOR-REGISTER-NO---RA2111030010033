{
  "nbformat": 4,
  "nbformat_minor": 0,
  "metadata": {
    "colab": {
      "provenance": [],
      "authorship_tag": "ABX9TyNnn5vI6TqZ0+DGzW0Iek3I",
      "include_colab_link": true
    },
    "kernelspec": {
      "name": "python3",
      "display_name": "Python 3"
    },
    "language_info": {
      "name": "python"
    }
  },
  "cells": [
    {
      "cell_type": "markdown",
      "metadata": {
        "id": "view-in-github",
        "colab_type": "text"
      },
      "source": [
        "<a href=\"https://colab.research.google.com/github/lv8621/CLI-CALCULATOR-REGISTER-NO---RA2111030010033/blob/main/RA2111030010033_LYNN_FERNANDES_(APP_WEEK_1).ipynb\" target=\"_parent\"><img src=\"https://colab.research.google.com/assets/colab-badge.svg\" alt=\"Open In Colab\"/></a>"
      ]
    },
    {
      "cell_type": "code",
      "execution_count": 5,
      "metadata": {
        "colab": {
          "base_uri": "https://localhost:8080/"
        },
        "id": "lcZSYPTY_9Kc",
        "outputId": "9ba564f4-05c9-4853-dbb1-b201d522ea10"
      },
      "outputs": [
        {
          "output_type": "stream",
          "name": "stdout",
          "text": [
            "Below are all perfect numbers till 10000\n",
            "6  is a perfect number\n",
            "28  is a perfect number\n",
            "496  is a perfect number\n",
            "8128  is a perfect number\n"
          ]
        }
      ],
      "source": [
        "def isPerfect( n ):\n",
        "     \n",
        "    sum = 1\n",
        "    i = 2\n",
        "    while i * i <= n:\n",
        "        if n % i == 0:\n",
        "            sum = sum + i + n/i\n",
        "        i += 1\n",
        "     \n",
        "    return (True if sum == n and n!=1 else False)\n",
        "\n",
        "print(\"Below are all perfect numbers till 10000\")\n",
        "n = 2\n",
        "for n in range (10000):\n",
        "    if isPerfect (n):\n",
        "        print(n , \" is a perfect number\")"
      ]
    },
    {
      "cell_type": "code",
      "source": [
        "def printTwinPrime(n):\n",
        "     \n",
        "    \n",
        "    prime = [True for i in range(n + 2)]\n",
        "    p = 2\n",
        "     \n",
        "    while (p * p <= n + 1):\n",
        "         \n",
        "       \n",
        "        if (prime[p] == True):\n",
        "             \n",
        "           \n",
        "            for i in range(p * 2, n + 2, p):\n",
        "                prime[i] = False\n",
        "        p += 1\n",
        "     \n",
        "    \n",
        "    for p in range(2, n-1):\n",
        "        if prime[p] and prime[p + 2]:\n",
        "            print(\"(\",p,\",\", (p + 2), \")\" ,end='')\n",
        " \n",
        " \n",
        "if __name__=='__main__':\n",
        " \n",
        "    n = 25\n",
        "     \n",
        "   \n",
        "    printTwinPrime(n)"
      ],
      "metadata": {
        "colab": {
          "base_uri": "https://localhost:8080/"
        },
        "id": "yqBLmoagAfdg",
        "outputId": "886986b3-5006-453b-c360-112039e4d8f2"
      },
      "execution_count": 6,
      "outputs": [
        {
          "output_type": "stream",
          "name": "stdout",
          "text": [
            "( 3 , 5 )( 5 , 7 )( 11 , 13 )( 17 , 19 )"
          ]
        }
      ]
    },
    {
      "cell_type": "code",
      "source": [
        "def SieveOfEratosthenes(n, prime):\n",
        " \n",
        "    \n",
        "    for i in range(0, n + 1) :\n",
        "        prime[i] = True\n",
        " \n",
        "    p = 2\n",
        "    while(p * p <= n):\n",
        "     \n",
        "   \n",
        "        if (prime[p] == True) :\n",
        "         \n",
        "            \n",
        "            for i in range(p * 2, n + 1, p):\n",
        "                prime[i] = False\n",
        "                 \n",
        "        p += 1\n",
        "         \n",
        "\n",
        "def mersennePrimes(n) :\n",
        " \n",
        "   \n",
        "    prime = [0] * (n + 1)\n",
        " \n",
        "  \n",
        "    SieveOfEratosthenes(n, prime)\n",
        " \n",
        "    k = 2\n",
        "    while(((1 << k) - 1) <= n ):\n",
        "     \n",
        "        num = (1 << k) - 1\n",
        " \n",
        "        if (prime[num]) :\n",
        "            print(num, end = \" \" )\n",
        "             \n",
        "        k += 1\n",
        "        \n",
        "n = 31\n",
        "print(\"Mersenne prime numbers smaller\",\n",
        "              \"than or equal to \" , n )\n",
        "mersennePrimes(n)"
      ],
      "metadata": {
        "colab": {
          "base_uri": "https://localhost:8080/"
        },
        "id": "p1qb00NLBOFP",
        "outputId": "36364f6e-33e9-4b56-ae3f-7548ea6ec430"
      },
      "execution_count": 7,
      "outputs": [
        {
          "output_type": "stream",
          "name": "stdout",
          "text": [
            "Mersenne prime numbers smaller than or equal to  31\n",
            "3 7 31 "
          ]
        }
      ]
    },
    {
      "cell_type": "code",
      "source": [
        "tuition=10000\n",
        "yearlyIncreasePercentage =0.05\n",
        "tuitionInTenYears=0\n",
        "fourYearsOfTuition =0\n",
        "year=0\n",
        "while (year<15):\n",
        "    year=year+1\n",
        "    tuition=tuition*1.05\n",
        "\n",
        "    if (year==10):\n",
        "        tuitionInTenYears=tuition\n",
        "print(\"Tuition in ten years is \",tuitionInTenYears)\n",
        "\n",
        "for year in range(10,14,1):\n",
        "    tuition+=tuition\n",
        "\n",
        "print(\"The four-year total tuition in ten years is \",tuition)"
      ],
      "metadata": {
        "colab": {
          "base_uri": "https://localhost:8080/"
        },
        "id": "Y22iArBhzvnZ",
        "outputId": "c8cb95db-2d51-44c7-a73f-c56ebc80fafa"
      },
      "execution_count": 2,
      "outputs": [
        {
          "output_type": "stream",
          "name": "stdout",
          "text": [
            "Tuition in ten years is  16288.946267774418\n",
            "The four-year total tuition in ten years is  332628.5087058189\n"
          ]
        }
      ]
    },
    {
      "cell_type": "code",
      "source": [
        "students=int(input (\"Enter no of students: \"))\n",
        "scores={}\n",
        "hg=0\n",
        "for i in range(students):\n",
        "    name=input(\"Enter name of student= \")\n",
        "    score=int(input (\"Enter score: \"))\n",
        "    scores[name]=score\n",
        "    if score>hg:\n",
        "        hg=score\n",
        "print(\"Highest score is \",hg)"
      ],
      "metadata": {
        "colab": {
          "base_uri": "https://localhost:8080/"
        },
        "id": "vlpx5ZIK4KoV",
        "outputId": "f3e68e2f-83d7-452b-dde9-1705a64e2422"
      },
      "execution_count": 4,
      "outputs": [
        {
          "output_type": "stream",
          "name": "stdout",
          "text": [
            "Enter no of students: 3\n",
            "Enter name of student= LYNN\n",
            "Enter score: 50\n",
            "Enter name of student= RAM\n",
            "Enter score: 45\n",
            "Enter name of student= PREM \n",
            "Enter score: 60\n",
            "Highest score is  60\n"
          ]
        }
      ]
    }
  ]
}